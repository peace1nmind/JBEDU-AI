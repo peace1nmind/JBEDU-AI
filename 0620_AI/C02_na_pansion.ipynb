{
 "cells": [
  {
   "cell_type": "code",
   "execution_count": 1,
   "metadata": {},
   "outputs": [
    {
     "name": "stderr",
     "output_type": "stream",
     "text": [
      "C:\\Users\\JBEDU30\\AppData\\Local\\Temp\\ipykernel_14556\\194131904.py:4: UserWarning: ignore\n",
      "  warnings.warn('ignore')\n"
     ]
    }
   ],
   "source": [
    "import pandas as pd\n",
    "import warnings\n",
    "\n",
    "warnings.warn('ignore')\n"
   ]
  },
  {
   "cell_type": "code",
   "execution_count": 2,
   "metadata": {},
   "outputs": [
    {
     "name": "stderr",
     "output_type": "stream",
     "text": [
      "C:\\Users\\JBEDU30\\AppData\\Local\\Temp\\ipykernel_14556\\3484668476.py:1: DtypeWarning: Columns (8,13) have mixed types. Specify dtype option on import or set low_memory=False.\n",
      "  df = pd.read_csv(\"Data/national_pension_20240521.csv\",\n"
     ]
    },
    {
     "name": "stdout",
     "output_type": "stream",
     "text": [
      "<class 'pandas.core.frame.DataFrame'>\n",
      "RangeIndex: 531535 entries, 0 to 531534\n",
      "Data columns (total 22 columns):\n",
      " #   Column               Non-Null Count   Dtype \n",
      "---  ------               --------------   ----- \n",
      " 0   자료생성년월               531535 non-null  object\n",
      " 1   사업장명                 531535 non-null  object\n",
      " 2   사업자등록번호              531535 non-null  int64 \n",
      " 3   사업장가입상태코드 1 등록 2 탈퇴  531535 non-null  int64 \n",
      " 4   우편번호                 531535 non-null  object\n",
      " 5   사업장지번상세주소            531535 non-null  object\n",
      " 6   사업장도로명상세주소           531535 non-null  object\n",
      " 7   고객법정동주소코드            531535 non-null  int64 \n",
      " 8   고객행정동주소코드            531535 non-null  object\n",
      " 9   법정동주소광역시도코드          531535 non-null  int64 \n",
      " 10  법정동주소광역시시군구코드        531535 non-null  int64 \n",
      " 11  법정동주소광역시시군구읍면동코드     531535 non-null  int64 \n",
      " 12  사업장형태구분코드 1 법인 2 개인  531535 non-null  int64 \n",
      " 13  사업장업종코드              531535 non-null  object\n",
      " 14  사업장업종코드명             522773 non-null  object\n",
      " 15  적용일자                 531535 non-null  object\n",
      " 16  재등록일자                13273 non-null   object\n",
      " 17  탈퇴일자                 11972 non-null   object\n",
      " 18  가입자수                 531535 non-null  int64 \n",
      " 19  당월고지금액               531535 non-null  int64 \n",
      " 20  신규취득자수               531535 non-null  int64 \n",
      " 21  상실가입자수               531535 non-null  int64 \n",
      "dtypes: int64(11), object(11)\n",
      "memory usage: 89.2+ MB\n"
     ]
    }
   ],
   "source": [
    "df = pd.read_csv(\"Data/national_pension_20240521.csv\",\n",
    "                  encoding='cp949')\n",
    "\n",
    "df.info()\n"
   ]
  },
  {
   "cell_type": "code",
   "execution_count": 3,
   "metadata": {},
   "outputs": [
    {
     "data": {
      "text/html": [
       "<div>\n",
       "<style scoped>\n",
       "    .dataframe tbody tr th:only-of-type {\n",
       "        vertical-align: middle;\n",
       "    }\n",
       "\n",
       "    .dataframe tbody tr th {\n",
       "        vertical-align: top;\n",
       "    }\n",
       "\n",
       "    .dataframe thead th {\n",
       "        text-align: right;\n",
       "    }\n",
       "</style>\n",
       "<table border=\"1\" class=\"dataframe\">\n",
       "  <thead>\n",
       "    <tr style=\"text-align: right;\">\n",
       "      <th></th>\n",
       "      <th>자료생성년월</th>\n",
       "      <th>사업장명</th>\n",
       "      <th>사업자등록번호</th>\n",
       "      <th>사업장가입상태코드 1 등록 2 탈퇴</th>\n",
       "      <th>우편번호</th>\n",
       "      <th>사업장지번상세주소</th>\n",
       "      <th>사업장도로명상세주소</th>\n",
       "      <th>고객법정동주소코드</th>\n",
       "      <th>고객행정동주소코드</th>\n",
       "      <th>법정동주소광역시도코드</th>\n",
       "      <th>...</th>\n",
       "      <th>사업장형태구분코드 1 법인 2 개인</th>\n",
       "      <th>사업장업종코드</th>\n",
       "      <th>사업장업종코드명</th>\n",
       "      <th>적용일자</th>\n",
       "      <th>재등록일자</th>\n",
       "      <th>탈퇴일자</th>\n",
       "      <th>가입자수</th>\n",
       "      <th>당월고지금액</th>\n",
       "      <th>신규취득자수</th>\n",
       "      <th>상실가입자수</th>\n",
       "    </tr>\n",
       "  </thead>\n",
       "  <tbody>\n",
       "    <tr>\n",
       "      <th>0</th>\n",
       "      <td>2024-04</td>\n",
       "      <td>(유)삼송</td>\n",
       "      <td>116810</td>\n",
       "      <td>1</td>\n",
       "      <td>06776</td>\n",
       "      <td>서울특별시 서초구 양재동</td>\n",
       "      <td>서울특별시 서초구 마방로6길</td>\n",
       "      <td>1165010200</td>\n",
       "      <td>1165065200</td>\n",
       "      <td>11</td>\n",
       "      <td>...</td>\n",
       "      <td>1</td>\n",
       "      <td></td>\n",
       "      <td>NaN</td>\n",
       "      <td>1988-01-01</td>\n",
       "      <td>NaN</td>\n",
       "      <td>NaN</td>\n",
       "      <td>209</td>\n",
       "      <td>73946060</td>\n",
       "      <td>4</td>\n",
       "      <td>3</td>\n",
       "    </tr>\n",
       "    <tr>\n",
       "      <th>1</th>\n",
       "      <td>2024-04</td>\n",
       "      <td>(주)장성</td>\n",
       "      <td>214815</td>\n",
       "      <td>1</td>\n",
       "      <td>13511</td>\n",
       "      <td>경기도 성남시 분당구 야탑동</td>\n",
       "      <td>경기도 성남시 분당구 판교로</td>\n",
       "      <td>4113510700</td>\n",
       "      <td>4113561000</td>\n",
       "      <td>41</td>\n",
       "      <td>...</td>\n",
       "      <td>1</td>\n",
       "      <td>172902</td>\n",
       "      <td>그 외 기타 분류 안된 섬유제품 제조업</td>\n",
       "      <td>1988-01-01</td>\n",
       "      <td>NaN</td>\n",
       "      <td>NaN</td>\n",
       "      <td>3</td>\n",
       "      <td>1163240</td>\n",
       "      <td>0</td>\n",
       "      <td>0</td>\n",
       "    </tr>\n",
       "    <tr>\n",
       "      <th>2</th>\n",
       "      <td>2024-04</td>\n",
       "      <td>특수법인 총포 화약안전기술협회</td>\n",
       "      <td>118820</td>\n",
       "      <td>1</td>\n",
       "      <td>04162</td>\n",
       "      <td>서울특별시 마포구 용강동</td>\n",
       "      <td>서울특별시 마포구 마포대로1길</td>\n",
       "      <td>1144010500</td>\n",
       "      <td>1144059000</td>\n",
       "      <td>11</td>\n",
       "      <td>...</td>\n",
       "      <td>1</td>\n",
       "      <td>742201</td>\n",
       "      <td>기타 기술 시험  검사 및 분석업</td>\n",
       "      <td>1988-01-01</td>\n",
       "      <td>NaN</td>\n",
       "      <td>NaN</td>\n",
       "      <td>21</td>\n",
       "      <td>7623040</td>\n",
       "      <td>0</td>\n",
       "      <td>0</td>\n",
       "    </tr>\n",
       "    <tr>\n",
       "      <th>3</th>\n",
       "      <td>2024-04</td>\n",
       "      <td>서울명지초등학교</td>\n",
       "      <td>111820</td>\n",
       "      <td>1</td>\n",
       "      <td>03656</td>\n",
       "      <td>서울특별시 서대문구 홍은동</td>\n",
       "      <td>서울특별시 서대문구 명지2길</td>\n",
       "      <td>1141011800</td>\n",
       "      <td>1141068000</td>\n",
       "      <td>11</td>\n",
       "      <td>...</td>\n",
       "      <td>1</td>\n",
       "      <td>999999</td>\n",
       "      <td>BIZ_NO미존재사업장</td>\n",
       "      <td>1988-01-01</td>\n",
       "      <td>NaN</td>\n",
       "      <td>NaN</td>\n",
       "      <td>31</td>\n",
       "      <td>6438280</td>\n",
       "      <td>0</td>\n",
       "      <td>0</td>\n",
       "    </tr>\n",
       "    <tr>\n",
       "      <th>4</th>\n",
       "      <td>2024-04</td>\n",
       "      <td>삼양건설산업(주)</td>\n",
       "      <td>229810</td>\n",
       "      <td>1</td>\n",
       "      <td>06779</td>\n",
       "      <td>서울특별시 서초구 양재동</td>\n",
       "      <td>서울특별시 서초구 동산로</td>\n",
       "      <td>1165010200</td>\n",
       "      <td>1165065200</td>\n",
       "      <td>11</td>\n",
       "      <td>...</td>\n",
       "      <td>1</td>\n",
       "      <td>451101</td>\n",
       "      <td>아파트 건설업</td>\n",
       "      <td>1988-01-01</td>\n",
       "      <td>NaN</td>\n",
       "      <td>NaN</td>\n",
       "      <td>48</td>\n",
       "      <td>18749760</td>\n",
       "      <td>4</td>\n",
       "      <td>5</td>\n",
       "    </tr>\n",
       "  </tbody>\n",
       "</table>\n",
       "<p>5 rows × 22 columns</p>\n",
       "</div>"
      ],
      "text/plain": [
       "    자료생성년월              사업장명  사업자등록번호  사업장가입상태코드 1 등록 2 탈퇴   우편번호  \\\n",
       "0  2024-04             (유)삼송   116810                    1  06776   \n",
       "1  2024-04             (주)장성   214815                    1  13511   \n",
       "2  2024-04  특수법인 총포 화약안전기술협회   118820                    1  04162   \n",
       "3  2024-04          서울명지초등학교   111820                    1  03656   \n",
       "4  2024-04         삼양건설산업(주)   229810                    1  06779   \n",
       "\n",
       "         사업장지번상세주소        사업장도로명상세주소   고객법정동주소코드   고객행정동주소코드  법정동주소광역시도코드  \\\n",
       "0    서울특별시 서초구 양재동   서울특별시 서초구 마방로6길  1165010200  1165065200           11   \n",
       "1  경기도 성남시 분당구 야탑동   경기도 성남시 분당구 판교로  4113510700  4113561000           41   \n",
       "2    서울특별시 마포구 용강동  서울특별시 마포구 마포대로1길  1144010500  1144059000           11   \n",
       "3   서울특별시 서대문구 홍은동   서울특별시 서대문구 명지2길  1141011800  1141068000           11   \n",
       "4    서울특별시 서초구 양재동     서울특별시 서초구 동산로  1165010200  1165065200           11   \n",
       "\n",
       "   ...  사업장형태구분코드 1 법인 2 개인  사업장업종코드               사업장업종코드명        적용일자 재등록일자  \\\n",
       "0  ...                    1                             NaN  1988-01-01   NaN   \n",
       "1  ...                    1   172902  그 외 기타 분류 안된 섬유제품 제조업  1988-01-01   NaN   \n",
       "2  ...                    1   742201     기타 기술 시험  검사 및 분석업  1988-01-01   NaN   \n",
       "3  ...                    1   999999           BIZ_NO미존재사업장  1988-01-01   NaN   \n",
       "4  ...                    1   451101                아파트 건설업  1988-01-01   NaN   \n",
       "\n",
       "  탈퇴일자 가입자수    당월고지금액  신규취득자수  상실가입자수  \n",
       "0  NaN  209  73946060       4       3  \n",
       "1  NaN    3   1163240       0       0  \n",
       "2  NaN   21   7623040       0       0  \n",
       "3  NaN   31   6438280       0       0  \n",
       "4  NaN   48  18749760       4       5  \n",
       "\n",
       "[5 rows x 22 columns]"
      ]
     },
     "execution_count": 3,
     "metadata": {},
     "output_type": "execute_result"
    }
   ],
   "source": [
    "df.head()"
   ]
  },
  {
   "cell_type": "code",
   "execution_count": 4,
   "metadata": {},
   "outputs": [
    {
     "data": {
      "text/plain": [
       "자료생성년월                      0\n",
       "사업장명                        0\n",
       "사업자등록번호                     0\n",
       "사업장가입상태코드 1 등록 2 탈퇴         0\n",
       "우편번호                        0\n",
       "사업장지번상세주소                   0\n",
       "사업장도로명상세주소                  0\n",
       "고객법정동주소코드                   0\n",
       "고객행정동주소코드                   0\n",
       "법정동주소광역시도코드                 0\n",
       "법정동주소광역시시군구코드               0\n",
       "법정동주소광역시시군구읍면동코드            0\n",
       "사업장형태구분코드 1 법인 2 개인         0\n",
       "사업장업종코드                     0\n",
       "사업장업종코드명                 8762\n",
       "적용일자                        0\n",
       "재등록일자                  518262\n",
       "탈퇴일자                   519563\n",
       "가입자수                        0\n",
       "당월고지금액                      0\n",
       "신규취득자수                      0\n",
       "상실가입자수                      0\n",
       "dtype: int64"
      ]
     },
     "execution_count": 4,
     "metadata": {},
     "output_type": "execute_result"
    }
   ],
   "source": [
    "df.isna().sum()"
   ]
  },
  {
   "cell_type": "code",
   "execution_count": 5,
   "metadata": {},
   "outputs": [
    {
     "data": {
      "text/plain": [
       "Index(['자료생성년월', '사업장명', '사업자등록번호', '사업장가입상태코드 1 등록 2 탈퇴', '우편번호', '사업장지번상세주소',\n",
       "       '사업장도로명상세주소', '고객법정동주소코드', '고객행정동주소코드', '법정동주소광역시도코드', '법정동주소광역시시군구코드',\n",
       "       '법정동주소광역시시군구읍면동코드', '사업장형태구분코드 1 법인 2 개인', '사업장업종코드', '사업장업종코드명',\n",
       "       '적용일자', '재등록일자', '탈퇴일자', '가입자수', '당월고지금액', '신규취득자수', '상실가입자수'],\n",
       "      dtype='object')"
      ]
     },
     "execution_count": 5,
     "metadata": {},
     "output_type": "execute_result"
    }
   ],
   "source": [
    "df.columns"
   ]
  },
  {
   "cell_type": "code",
   "execution_count": 6,
   "metadata": {},
   "outputs": [
    {
     "data": {
      "text/html": [
       "<div>\n",
       "<style scoped>\n",
       "    .dataframe tbody tr th:only-of-type {\n",
       "        vertical-align: middle;\n",
       "    }\n",
       "\n",
       "    .dataframe tbody tr th {\n",
       "        vertical-align: top;\n",
       "    }\n",
       "\n",
       "    .dataframe thead th {\n",
       "        text-align: right;\n",
       "    }\n",
       "</style>\n",
       "<table border=\"1\" class=\"dataframe\">\n",
       "  <thead>\n",
       "    <tr style=\"text-align: right;\">\n",
       "      <th></th>\n",
       "      <th>사업장명</th>\n",
       "      <th>사업자등록번호</th>\n",
       "      <th>가입상태</th>\n",
       "      <th>주소</th>\n",
       "      <th>시도코드</th>\n",
       "      <th>시군구코드</th>\n",
       "      <th>읍면동코드</th>\n",
       "      <th>업종코드</th>\n",
       "      <th>업종코드명</th>\n",
       "      <th>탈퇴일자</th>\n",
       "      <th>가입자수</th>\n",
       "      <th>금액</th>\n",
       "      <th>신규</th>\n",
       "      <th>상실</th>\n",
       "    </tr>\n",
       "  </thead>\n",
       "  <tbody>\n",
       "    <tr>\n",
       "      <th>0</th>\n",
       "      <td>(유)삼송</td>\n",
       "      <td>116810</td>\n",
       "      <td>1</td>\n",
       "      <td>서울특별시 서초구 마방로6길</td>\n",
       "      <td>11</td>\n",
       "      <td>650</td>\n",
       "      <td>102</td>\n",
       "      <td></td>\n",
       "      <td>NaN</td>\n",
       "      <td>NaN</td>\n",
       "      <td>209</td>\n",
       "      <td>73946060</td>\n",
       "      <td>4</td>\n",
       "      <td>3</td>\n",
       "    </tr>\n",
       "    <tr>\n",
       "      <th>1</th>\n",
       "      <td>(주)장성</td>\n",
       "      <td>214815</td>\n",
       "      <td>1</td>\n",
       "      <td>경기도 성남시 분당구 판교로</td>\n",
       "      <td>41</td>\n",
       "      <td>135</td>\n",
       "      <td>107</td>\n",
       "      <td>172902</td>\n",
       "      <td>그 외 기타 분류 안된 섬유제품 제조업</td>\n",
       "      <td>NaN</td>\n",
       "      <td>3</td>\n",
       "      <td>1163240</td>\n",
       "      <td>0</td>\n",
       "      <td>0</td>\n",
       "    </tr>\n",
       "    <tr>\n",
       "      <th>2</th>\n",
       "      <td>특수법인 총포 화약안전기술협회</td>\n",
       "      <td>118820</td>\n",
       "      <td>1</td>\n",
       "      <td>서울특별시 마포구 마포대로1길</td>\n",
       "      <td>11</td>\n",
       "      <td>440</td>\n",
       "      <td>105</td>\n",
       "      <td>742201</td>\n",
       "      <td>기타 기술 시험  검사 및 분석업</td>\n",
       "      <td>NaN</td>\n",
       "      <td>21</td>\n",
       "      <td>7623040</td>\n",
       "      <td>0</td>\n",
       "      <td>0</td>\n",
       "    </tr>\n",
       "    <tr>\n",
       "      <th>3</th>\n",
       "      <td>서울명지초등학교</td>\n",
       "      <td>111820</td>\n",
       "      <td>1</td>\n",
       "      <td>서울특별시 서대문구 명지2길</td>\n",
       "      <td>11</td>\n",
       "      <td>410</td>\n",
       "      <td>118</td>\n",
       "      <td>999999</td>\n",
       "      <td>BIZ_NO미존재사업장</td>\n",
       "      <td>NaN</td>\n",
       "      <td>31</td>\n",
       "      <td>6438280</td>\n",
       "      <td>0</td>\n",
       "      <td>0</td>\n",
       "    </tr>\n",
       "    <tr>\n",
       "      <th>4</th>\n",
       "      <td>삼양건설산업(주)</td>\n",
       "      <td>229810</td>\n",
       "      <td>1</td>\n",
       "      <td>서울특별시 서초구 동산로</td>\n",
       "      <td>11</td>\n",
       "      <td>650</td>\n",
       "      <td>102</td>\n",
       "      <td>451101</td>\n",
       "      <td>아파트 건설업</td>\n",
       "      <td>NaN</td>\n",
       "      <td>48</td>\n",
       "      <td>18749760</td>\n",
       "      <td>4</td>\n",
       "      <td>5</td>\n",
       "    </tr>\n",
       "  </tbody>\n",
       "</table>\n",
       "</div>"
      ],
      "text/plain": [
       "               사업장명  사업자등록번호  가입상태                주소  시도코드  시군구코드  읍면동코드  \\\n",
       "0             (유)삼송   116810     1   서울특별시 서초구 마방로6길    11    650    102   \n",
       "1             (주)장성   214815     1   경기도 성남시 분당구 판교로    41    135    107   \n",
       "2  특수법인 총포 화약안전기술협회   118820     1  서울특별시 마포구 마포대로1길    11    440    105   \n",
       "3          서울명지초등학교   111820     1   서울특별시 서대문구 명지2길    11    410    118   \n",
       "4         삼양건설산업(주)   229810     1     서울특별시 서초구 동산로    11    650    102   \n",
       "\n",
       "     업종코드                  업종코드명 탈퇴일자  가입자수        금액  신규  상실  \n",
       "0                            NaN  NaN   209  73946060   4   3  \n",
       "1  172902  그 외 기타 분류 안된 섬유제품 제조업  NaN     3   1163240   0   0  \n",
       "2  742201     기타 기술 시험  검사 및 분석업  NaN    21   7623040   0   0  \n",
       "3  999999           BIZ_NO미존재사업장  NaN    31   6438280   0   0  \n",
       "4  451101                아파트 건설업  NaN    48  18749760   4   5  "
      ]
     },
     "execution_count": 6,
     "metadata": {},
     "output_type": "execute_result"
    }
   ],
   "source": [
    "df.columns = [\n",
    "    '자료생성년월', '사업장명', '사업자등록번호', '가입상태', '우편번호',\n",
    "    '사업장지번상세주소', '주소', '고객법정동주소코드', '고객행정동주소코드', \n",
    "    '시도코드', '시군구코드', '읍면동코드', \n",
    "    '사업장형태구분코드 1 법인 2 개인', '업종코드', '업종코드명', \n",
    "    '적용일자', '재등록일자', '탈퇴일자',\n",
    "    '가입자수', '금액', '신규', '상실'\n",
    "]\n",
    "df = df.drop(['자료생성년월', '우편번호', '사업장지번상세주소', '고객법정동주소코드', '고객행정동주소코드', '사업장형태구분코드 1 법인 2 개인', '적용일자', '재등록일자'], axis=1)\n",
    "df.head()"
   ]
  },
  {
   "cell_type": "code",
   "execution_count": 7,
   "metadata": {},
   "outputs": [
    {
     "data": {
      "text/plain": [
       "array(['(유)삼송', '(주)장성', '특수법인 총포 화약안전기술협회', ...,\n",
       "       '은석건설(주)/일용/자월2리 어류골 해안도로 연장사업 중 철근콘크리트 공사',\n",
       "       '주식회사원주엔지니어링/일용/클린코리아 WDF 고도화사업',\n",
       "       '서림종합건설(주)-(일용)제천시생활SOC복합화시설건립사업건축공사중철콘및기타공사'], dtype=object)"
      ]
     },
     "execution_count": 7,
     "metadata": {},
     "output_type": "execute_result"
    }
   ],
   "source": [
    "df['사업장명'].unique()"
   ]
  },
  {
   "cell_type": "code",
   "execution_count": 8,
   "metadata": {},
   "outputs": [
    {
     "name": "stderr",
     "output_type": "stream",
     "text": [
      "<>:1: SyntaxWarning: invalid escape sequence '\\('\n",
      "<>:1: SyntaxWarning: invalid escape sequence '\\('\n",
      "C:\\Users\\JBEDU30\\AppData\\Local\\Temp\\ipykernel_14556\\1799612837.py:1: SyntaxWarning: invalid escape sequence '\\('\n",
      "  df.loc[df['사업장명'].str.contains('\\(주\\)')]\n"
     ]
    },
    {
     "data": {
      "text/html": [
       "<div>\n",
       "<style scoped>\n",
       "    .dataframe tbody tr th:only-of-type {\n",
       "        vertical-align: middle;\n",
       "    }\n",
       "\n",
       "    .dataframe tbody tr th {\n",
       "        vertical-align: top;\n",
       "    }\n",
       "\n",
       "    .dataframe thead th {\n",
       "        text-align: right;\n",
       "    }\n",
       "</style>\n",
       "<table border=\"1\" class=\"dataframe\">\n",
       "  <thead>\n",
       "    <tr style=\"text-align: right;\">\n",
       "      <th></th>\n",
       "      <th>사업장명</th>\n",
       "      <th>사업자등록번호</th>\n",
       "      <th>가입상태</th>\n",
       "      <th>주소</th>\n",
       "      <th>시도코드</th>\n",
       "      <th>시군구코드</th>\n",
       "      <th>읍면동코드</th>\n",
       "      <th>업종코드</th>\n",
       "      <th>업종코드명</th>\n",
       "      <th>탈퇴일자</th>\n",
       "      <th>가입자수</th>\n",
       "      <th>금액</th>\n",
       "      <th>신규</th>\n",
       "      <th>상실</th>\n",
       "    </tr>\n",
       "  </thead>\n",
       "  <tbody>\n",
       "    <tr>\n",
       "      <th>1</th>\n",
       "      <td>(주)장성</td>\n",
       "      <td>214815</td>\n",
       "      <td>1</td>\n",
       "      <td>경기도 성남시 분당구 판교로</td>\n",
       "      <td>41</td>\n",
       "      <td>135</td>\n",
       "      <td>107</td>\n",
       "      <td>172902</td>\n",
       "      <td>그 외 기타 분류 안된 섬유제품 제조업</td>\n",
       "      <td>NaN</td>\n",
       "      <td>3</td>\n",
       "      <td>1163240</td>\n",
       "      <td>0</td>\n",
       "      <td>0</td>\n",
       "    </tr>\n",
       "    <tr>\n",
       "      <th>4</th>\n",
       "      <td>삼양건설산업(주)</td>\n",
       "      <td>229810</td>\n",
       "      <td>1</td>\n",
       "      <td>서울특별시 서초구 동산로</td>\n",
       "      <td>11</td>\n",
       "      <td>650</td>\n",
       "      <td>102</td>\n",
       "      <td>451101</td>\n",
       "      <td>아파트 건설업</td>\n",
       "      <td>NaN</td>\n",
       "      <td>48</td>\n",
       "      <td>18749760</td>\n",
       "      <td>4</td>\n",
       "      <td>5</td>\n",
       "    </tr>\n",
       "    <tr>\n",
       "      <th>5</th>\n",
       "      <td>(주)한국경제신문</td>\n",
       "      <td>110810</td>\n",
       "      <td>1</td>\n",
       "      <td>서울특별시 중구 청파로</td>\n",
       "      <td>11</td>\n",
       "      <td>140</td>\n",
       "      <td>171</td>\n",
       "      <td>221200</td>\n",
       "      <td>잡지 및 정기 간행물 발행업</td>\n",
       "      <td>NaN</td>\n",
       "      <td>493</td>\n",
       "      <td>222494300</td>\n",
       "      <td>36</td>\n",
       "      <td>22</td>\n",
       "    </tr>\n",
       "    <tr>\n",
       "      <th>6</th>\n",
       "      <td>(주) 매일경제신문사</td>\n",
       "      <td>203810</td>\n",
       "      <td>1</td>\n",
       "      <td>서울특별시 중구 퇴계로</td>\n",
       "      <td>11</td>\n",
       "      <td>140</td>\n",
       "      <td>137</td>\n",
       "      <td>222102</td>\n",
       "      <td>스크린 인쇄업</td>\n",
       "      <td>NaN</td>\n",
       "      <td>719</td>\n",
       "      <td>254262460</td>\n",
       "      <td>22</td>\n",
       "      <td>14</td>\n",
       "    </tr>\n",
       "    <tr>\n",
       "      <th>7</th>\n",
       "      <td>대성출판(주)</td>\n",
       "      <td>108811</td>\n",
       "      <td>1</td>\n",
       "      <td>서울특별시 동작구 노량진로</td>\n",
       "      <td>11</td>\n",
       "      <td>590</td>\n",
       "      <td>101</td>\n",
       "      <td>809005</td>\n",
       "      <td>일반 교과학원</td>\n",
       "      <td>NaN</td>\n",
       "      <td>40</td>\n",
       "      <td>9899280</td>\n",
       "      <td>1</td>\n",
       "      <td>3</td>\n",
       "    </tr>\n",
       "    <tr>\n",
       "      <th>...</th>\n",
       "      <td>...</td>\n",
       "      <td>...</td>\n",
       "      <td>...</td>\n",
       "      <td>...</td>\n",
       "      <td>...</td>\n",
       "      <td>...</td>\n",
       "      <td>...</td>\n",
       "      <td>...</td>\n",
       "      <td>...</td>\n",
       "      <td>...</td>\n",
       "      <td>...</td>\n",
       "      <td>...</td>\n",
       "      <td>...</td>\n",
       "      <td>...</td>\n",
       "    </tr>\n",
       "    <tr>\n",
       "      <th>531527</th>\n",
       "      <td>(주)이맥스시스템/일용/무안오룡2차 중 시스템에어컨(옵션)공사</td>\n",
       "      <td>105866</td>\n",
       "      <td>1</td>\n",
       "      <td>전라남도 무안군 삼향읍 남악2로74번가길</td>\n",
       "      <td>46</td>\n",
       "      <td>840</td>\n",
       "      <td>256</td>\n",
       "      <td>452104</td>\n",
       "      <td>배관 및 냉ㆍ난방 공사업</td>\n",
       "      <td>NaN</td>\n",
       "      <td>4</td>\n",
       "      <td>1440000</td>\n",
       "      <td>4</td>\n",
       "      <td>0</td>\n",
       "    </tr>\n",
       "    <tr>\n",
       "      <th>531528</th>\n",
       "      <td>(주)정원산업개발/일용/포항펜타시티동화아이위시 신축공사 중 석공사</td>\n",
       "      <td>502818</td>\n",
       "      <td>1</td>\n",
       "      <td></td>\n",
       "      <td>47</td>\n",
       "      <td>113</td>\n",
       "      <td>250</td>\n",
       "      <td>452101</td>\n",
       "      <td>미장  타일 및 방수 공사업</td>\n",
       "      <td>NaN</td>\n",
       "      <td>5</td>\n",
       "      <td>2439000</td>\n",
       "      <td>5</td>\n",
       "      <td>0</td>\n",
       "    </tr>\n",
       "    <tr>\n",
       "      <th>531530</th>\n",
       "      <td>(주)부경프라임건설-(일용)천주교부산교구금정구부곡동1-4종교시설 증축공사중가설및철근...</td>\n",
       "      <td>617812</td>\n",
       "      <td>1</td>\n",
       "      <td>부산광역시 금정구 오륜대로</td>\n",
       "      <td>26</td>\n",
       "      <td>410</td>\n",
       "      <td>109</td>\n",
       "      <td>452119</td>\n",
       "      <td>콘크리트 및 철근 공사업</td>\n",
       "      <td>NaN</td>\n",
       "      <td>4</td>\n",
       "      <td>1782000</td>\n",
       "      <td>4</td>\n",
       "      <td>0</td>\n",
       "    </tr>\n",
       "    <tr>\n",
       "      <th>531532</th>\n",
       "      <td>은석건설(주)/일용/자월2리 어류골 해안도로 연장사업 중 철근콘크리트 공사</td>\n",
       "      <td>301815</td>\n",
       "      <td>1</td>\n",
       "      <td></td>\n",
       "      <td>28</td>\n",
       "      <td>720</td>\n",
       "      <td>350</td>\n",
       "      <td>452119</td>\n",
       "      <td>콘크리트 및 철근 공사업</td>\n",
       "      <td>NaN</td>\n",
       "      <td>3</td>\n",
       "      <td>1070100</td>\n",
       "      <td>3</td>\n",
       "      <td>0</td>\n",
       "    </tr>\n",
       "    <tr>\n",
       "      <th>531534</th>\n",
       "      <td>서림종합건설(주)-(일용)제천시생활SOC복합화시설건립사업건축공사중철콘및기타공사</td>\n",
       "      <td>862810</td>\n",
       "      <td>1</td>\n",
       "      <td>충청북도 제천시 강명길</td>\n",
       "      <td>43</td>\n",
       "      <td>150</td>\n",
       "      <td>122</td>\n",
       "      <td>452102</td>\n",
       "      <td>유리 및 창호 공사업</td>\n",
       "      <td>NaN</td>\n",
       "      <td>5</td>\n",
       "      <td>2358900</td>\n",
       "      <td>5</td>\n",
       "      <td>0</td>\n",
       "    </tr>\n",
       "  </tbody>\n",
       "</table>\n",
       "<p>168934 rows × 14 columns</p>\n",
       "</div>"
      ],
      "text/plain": [
       "                                                     사업장명  사업자등록번호  가입상태  \\\n",
       "1                                                   (주)장성   214815     1   \n",
       "4                                               삼양건설산업(주)   229810     1   \n",
       "5                                               (주)한국경제신문   110810     1   \n",
       "6                                             (주) 매일경제신문사   203810     1   \n",
       "7                                                 대성출판(주)   108811     1   \n",
       "...                                                   ...      ...   ...   \n",
       "531527                 (주)이맥스시스템/일용/무안오룡2차 중 시스템에어컨(옵션)공사   105866     1   \n",
       "531528               (주)정원산업개발/일용/포항펜타시티동화아이위시 신축공사 중 석공사   502818     1   \n",
       "531530  (주)부경프라임건설-(일용)천주교부산교구금정구부곡동1-4종교시설 증축공사중가설및철근...   617812     1   \n",
       "531532          은석건설(주)/일용/자월2리 어류골 해안도로 연장사업 중 철근콘크리트 공사   301815     1   \n",
       "531534        서림종합건설(주)-(일용)제천시생활SOC복합화시설건립사업건축공사중철콘및기타공사   862810     1   \n",
       "\n",
       "                            주소  시도코드  시군구코드  읍면동코드    업종코드  \\\n",
       "1              경기도 성남시 분당구 판교로    41    135    107  172902   \n",
       "4                서울특별시 서초구 동산로    11    650    102  451101   \n",
       "5                 서울특별시 중구 청파로    11    140    171  221200   \n",
       "6                 서울특별시 중구 퇴계로    11    140    137  222102   \n",
       "7               서울특별시 동작구 노량진로    11    590    101  809005   \n",
       "...                        ...   ...    ...    ...     ...   \n",
       "531527  전라남도 무안군 삼향읍 남악2로74번가길    46    840    256  452104   \n",
       "531528                            47    113    250  452101   \n",
       "531530          부산광역시 금정구 오륜대로    26    410    109  452119   \n",
       "531532                            28    720    350  452119   \n",
       "531534            충청북도 제천시 강명길    43    150    122  452102   \n",
       "\n",
       "                        업종코드명 탈퇴일자  가입자수         금액  신규  상실  \n",
       "1       그 외 기타 분류 안된 섬유제품 제조업  NaN     3    1163240   0   0  \n",
       "4                     아파트 건설업  NaN    48   18749760   4   5  \n",
       "5             잡지 및 정기 간행물 발행업  NaN   493  222494300  36  22  \n",
       "6                     스크린 인쇄업  NaN   719  254262460  22  14  \n",
       "7                     일반 교과학원  NaN    40    9899280   1   3  \n",
       "...                       ...  ...   ...        ...  ..  ..  \n",
       "531527          배관 및 냉ㆍ난방 공사업  NaN     4    1440000   4   0  \n",
       "531528        미장  타일 및 방수 공사업  NaN     5    2439000   5   0  \n",
       "531530          콘크리트 및 철근 공사업  NaN     4    1782000   4   0  \n",
       "531532          콘크리트 및 철근 공사업  NaN     3    1070100   3   0  \n",
       "531534            유리 및 창호 공사업  NaN     5    2358900   5   0  \n",
       "\n",
       "[168934 rows x 14 columns]"
      ]
     },
     "execution_count": 8,
     "metadata": {},
     "output_type": "execute_result"
    }
   ],
   "source": [
    "df.loc[df['사업장명'].str.contains('\\(주\\)')]"
   ]
  },
  {
   "cell_type": "code",
   "execution_count": 9,
   "metadata": {},
   "outputs": [
    {
     "data": {
      "text/plain": [
       "'우성시전'"
      ]
     },
     "execution_count": 9,
     "metadata": {},
     "output_type": "execute_result"
    }
   ],
   "source": [
    "import re\n",
    "\n",
    "pattern1 = r'\\([^)]+\\)'\n",
    "re.sub(pattern1, \"\", '우성시전(주+)')"
   ]
  },
  {
   "cell_type": "code",
   "execution_count": 10,
   "metadata": {},
   "outputs": [
    {
     "name": "stderr",
     "output_type": "stream",
     "text": [
      "<>:1: SyntaxWarning: invalid escape sequence '\\['\n",
      "<>:1: SyntaxWarning: invalid escape sequence '\\['\n",
      "C:\\Users\\JBEDU30\\AppData\\Local\\Temp\\ipykernel_14556\\2116119738.py:1: SyntaxWarning: invalid escape sequence '\\['\n",
      "  df.loc[df['사업장명'].str.contains('\\[')].head()\n"
     ]
    },
    {
     "data": {
      "text/html": [
       "<div>\n",
       "<style scoped>\n",
       "    .dataframe tbody tr th:only-of-type {\n",
       "        vertical-align: middle;\n",
       "    }\n",
       "\n",
       "    .dataframe tbody tr th {\n",
       "        vertical-align: top;\n",
       "    }\n",
       "\n",
       "    .dataframe thead th {\n",
       "        text-align: right;\n",
       "    }\n",
       "</style>\n",
       "<table border=\"1\" class=\"dataframe\">\n",
       "  <thead>\n",
       "    <tr style=\"text-align: right;\">\n",
       "      <th></th>\n",
       "      <th>사업장명</th>\n",
       "      <th>사업자등록번호</th>\n",
       "      <th>가입상태</th>\n",
       "      <th>주소</th>\n",
       "      <th>시도코드</th>\n",
       "      <th>시군구코드</th>\n",
       "      <th>읍면동코드</th>\n",
       "      <th>업종코드</th>\n",
       "      <th>업종코드명</th>\n",
       "      <th>탈퇴일자</th>\n",
       "      <th>가입자수</th>\n",
       "      <th>금액</th>\n",
       "      <th>신규</th>\n",
       "      <th>상실</th>\n",
       "    </tr>\n",
       "  </thead>\n",
       "  <tbody>\n",
       "    <tr>\n",
       "      <th>108718</th>\n",
       "      <td>에스티테크[주]</td>\n",
       "      <td>606817</td>\n",
       "      <td>1</td>\n",
       "      <td>부산광역시 사하구 감천항로419번길</td>\n",
       "      <td>26</td>\n",
       "      <td>380</td>\n",
       "      <td>107</td>\n",
       "      <td>291502</td>\n",
       "      <td>기타 물품 취급장비 제조업</td>\n",
       "      <td>NaN</td>\n",
       "      <td>10</td>\n",
       "      <td>3958260</td>\n",
       "      <td>0</td>\n",
       "      <td>0</td>\n",
       "    </tr>\n",
       "    <tr>\n",
       "      <th>153197</th>\n",
       "      <td>게스트하우스 [특별자활]</td>\n",
       "      <td>206826</td>\n",
       "      <td>1</td>\n",
       "      <td>서울특별시 성동구 가람길</td>\n",
       "      <td>11</td>\n",
       "      <td>200</td>\n",
       "      <td>118</td>\n",
       "      <td>999999</td>\n",
       "      <td>BIZ_NO미존재사업장</td>\n",
       "      <td>NaN</td>\n",
       "      <td>8</td>\n",
       "      <td>1621440</td>\n",
       "      <td>0</td>\n",
       "      <td>0</td>\n",
       "    </tr>\n",
       "    <tr>\n",
       "      <th>155448</th>\n",
       "      <td>[주)한빛관리 은행대우 3차1단지/ 생활지원센타]</td>\n",
       "      <td>212813</td>\n",
       "      <td>1</td>\n",
       "      <td>경기도 시흥시 은행로</td>\n",
       "      <td>41</td>\n",
       "      <td>390</td>\n",
       "      <td>106</td>\n",
       "      <td>702003</td>\n",
       "      <td>비주거용 부동산 관리업</td>\n",
       "      <td>NaN</td>\n",
       "      <td>3</td>\n",
       "      <td>777860</td>\n",
       "      <td>0</td>\n",
       "      <td>0</td>\n",
       "    </tr>\n",
       "    <tr>\n",
       "      <th>160227</th>\n",
       "      <td>비전트레이닝센터[자활사업]</td>\n",
       "      <td>206826</td>\n",
       "      <td>1</td>\n",
       "      <td>서울특별시 성동구 자동차시장길</td>\n",
       "      <td>11</td>\n",
       "      <td>200</td>\n",
       "      <td>122</td>\n",
       "      <td>999999</td>\n",
       "      <td>BIZ_NO미존재사업장</td>\n",
       "      <td>NaN</td>\n",
       "      <td>21</td>\n",
       "      <td>1561740</td>\n",
       "      <td>2</td>\n",
       "      <td>4</td>\n",
       "    </tr>\n",
       "    <tr>\n",
       "      <th>177151</th>\n",
       "      <td>바이오코리아[BIOKOREA]</td>\n",
       "      <td>317826</td>\n",
       "      <td>1</td>\n",
       "      <td>충청북도 청주시 흥덕구 오송읍 오송생명2로</td>\n",
       "      <td>43</td>\n",
       "      <td>113</td>\n",
       "      <td>250</td>\n",
       "      <td>999999</td>\n",
       "      <td>BIZ_NO미존재사업장</td>\n",
       "      <td>NaN</td>\n",
       "      <td>3</td>\n",
       "      <td>651320</td>\n",
       "      <td>0</td>\n",
       "      <td>0</td>\n",
       "    </tr>\n",
       "  </tbody>\n",
       "</table>\n",
       "</div>"
      ],
      "text/plain": [
       "                               사업장명  사업자등록번호  가입상태                       주소  \\\n",
       "108718                     에스티테크[주]   606817     1      부산광역시 사하구 감천항로419번길   \n",
       "153197                게스트하우스 [특별자활]   206826     1            서울특별시 성동구 가람길   \n",
       "155448  [주)한빛관리 은행대우 3차1단지/ 생활지원센타]   212813     1              경기도 시흥시 은행로   \n",
       "160227               비전트레이닝센터[자활사업]   206826     1         서울특별시 성동구 자동차시장길   \n",
       "177151             바이오코리아[BIOKOREA]   317826     1  충청북도 청주시 흥덕구 오송읍 오송생명2로   \n",
       "\n",
       "        시도코드  시군구코드  읍면동코드    업종코드           업종코드명 탈퇴일자  가입자수       금액  신규  상실  \n",
       "108718    26    380    107  291502  기타 물품 취급장비 제조업  NaN    10  3958260   0   0  \n",
       "153197    11    200    118  999999    BIZ_NO미존재사업장  NaN     8  1621440   0   0  \n",
       "155448    41    390    106  702003    비주거용 부동산 관리업  NaN     3   777860   0   0  \n",
       "160227    11    200    122  999999    BIZ_NO미존재사업장  NaN    21  1561740   2   4  \n",
       "177151    43    113    250  999999    BIZ_NO미존재사업장  NaN     3   651320   0   0  "
      ]
     },
     "execution_count": 10,
     "metadata": {},
     "output_type": "execute_result"
    }
   ],
   "source": [
    "df.loc[df['사업장명'].str.contains('\\[')].head()"
   ]
  },
  {
   "cell_type": "code",
   "execution_count": 11,
   "metadata": {},
   "outputs": [
    {
     "data": {
      "text/plain": [
       "'에스티테크[주]'"
      ]
     },
     "execution_count": 11,
     "metadata": {},
     "output_type": "execute_result"
    }
   ],
   "source": [
    "pattern2 = ''\n",
    "re.sub(pattern1,\"\",\"에스티테크[주]\")"
   ]
  },
  {
   "cell_type": "code",
   "execution_count": 12,
   "metadata": {},
   "outputs": [
    {
     "name": "stderr",
     "output_type": "stream",
     "text": [
      "<>:1: SyntaxWarning: invalid escape sequence '\\/'\n",
      "<>:1: SyntaxWarning: invalid escape sequence '\\/'\n",
      "C:\\Users\\JBEDU30\\AppData\\Local\\Temp\\ipykernel_14556\\4006193433.py:1: SyntaxWarning: invalid escape sequence '\\/'\n",
      "  contain = df['사업장명'].str.contains('\\/')\n"
     ]
    },
    {
     "data": {
      "text/html": [
       "<div>\n",
       "<style scoped>\n",
       "    .dataframe tbody tr th:only-of-type {\n",
       "        vertical-align: middle;\n",
       "    }\n",
       "\n",
       "    .dataframe tbody tr th {\n",
       "        vertical-align: top;\n",
       "    }\n",
       "\n",
       "    .dataframe thead th {\n",
       "        text-align: right;\n",
       "    }\n",
       "</style>\n",
       "<table border=\"1\" class=\"dataframe\">\n",
       "  <thead>\n",
       "    <tr style=\"text-align: right;\">\n",
       "      <th></th>\n",
       "      <th>사업장명</th>\n",
       "    </tr>\n",
       "  </thead>\n",
       "  <tbody>\n",
       "    <tr>\n",
       "      <th>876</th>\n",
       "      <td>(주)동양/건재부문</td>\n",
       "    </tr>\n",
       "    <tr>\n",
       "      <th>1898</th>\n",
       "      <td>재우교통/주</td>\n",
       "    </tr>\n",
       "    <tr>\n",
       "      <th>4725</th>\n",
       "      <td>(주)한영파트너스FH/월드컵현대아파트</td>\n",
       "    </tr>\n",
       "    <tr>\n",
       "      <th>17415</th>\n",
       "      <td>의료법인해정의료재단/더좋은병원</td>\n",
       "    </tr>\n",
       "    <tr>\n",
       "      <th>21519</th>\n",
       "      <td>안산시청(의료급여사례관리/통합돌봄과)</td>\n",
       "    </tr>\n",
       "  </tbody>\n",
       "</table>\n",
       "</div>"
      ],
      "text/plain": [
       "                       사업장명\n",
       "876              (주)동양/건재부문\n",
       "1898                 재우교통/주\n",
       "4725   (주)한영파트너스FH/월드컵현대아파트\n",
       "17415      의료법인해정의료재단/더좋은병원\n",
       "21519  안산시청(의료급여사례관리/통합돌봄과)"
      ]
     },
     "execution_count": 12,
     "metadata": {},
     "output_type": "execute_result"
    }
   ],
   "source": [
    "contain = df['사업장명'].str.contains('\\/')\n",
    "df.loc[contain][['사업장명']].head()"
   ]
  },
  {
   "cell_type": "code",
   "execution_count": 13,
   "metadata": {},
   "outputs": [],
   "source": [
    "pattern3 = '[^A-Za-z0-9가-힣]'\n",
    "result = re.sub(pattern3, ' ', \"\")"
   ]
  },
  {
   "cell_type": "code",
   "execution_count": 14,
   "metadata": {},
   "outputs": [
    {
     "name": "stderr",
     "output_type": "stream",
     "text": [
      "<>:4: SyntaxWarning: invalid escape sequence '\\['\n",
      "<>:4: SyntaxWarning: invalid escape sequence '\\['\n",
      "C:\\Users\\JBEDU30\\AppData\\Local\\Temp\\ipykernel_14556\\3282757036.py:4: SyntaxWarning: invalid escape sequence '\\['\n",
      "  pattern1 = '(\\[[^)]+\\])'\n"
     ]
    },
    {
     "data": {
      "text/plain": [
       "0                                                 유삼송\n",
       "1                                                 주장성\n",
       "2                                      특수법인총포화약안전기술협회\n",
       "3                                            서울명지초등학교\n",
       "4                                             삼양건설산업주\n",
       "                             ...                     \n",
       "531530    주부경프라임건설일용천주교부산교구금정구부곡동14종교시설증축공사중가설및철근콘크리트\n",
       "531531         주식회사석원에프씨건설일용송정동도시재생어울림센터건축공사중철근콘크리트공사\n",
       "531532                은석건설주일용자월2리어류골해안도로연장사업중철근콘크리트공사\n",
       "531533                     주식회사원주엔지니어링일용클린코리아WDF고도화사업\n",
       "531534         서림종합건설주일용제천시생활SOC복합화시설건립사업건축공사중철콘및기타공사\n",
       "Name: 사업장명, Length: 531535, dtype: object"
      ]
     },
     "execution_count": 14,
     "metadata": {},
     "output_type": "execute_result"
    }
   ],
   "source": [
    "# 사업자 클리닝\n",
    "\n",
    "def cleaning(x):\n",
    "    pattern1 = '(\\[[^)]+\\])'\n",
    "    pattern2 = '[^A-Za-z0-9가-힣]'\n",
    "\n",
    "    x = re.sub(pattern1, '', x)\n",
    "    x = re.sub(pattern2, '', x)\n",
    "    x = re.sub(' +', ' ', x)\n",
    "\n",
    "    return x\n",
    "\n",
    "\n",
    "df['사업장명'] = df['사업장명'].apply(cleaning)\n",
    "\n",
    "df['사업장명']"
   ]
  },
  {
   "cell_type": "code",
   "execution_count": 15,
   "metadata": {},
   "outputs": [
    {
     "data": {
      "text/plain": [
       "array(['유삼송', '주장성', '특수법인총포화약안전기술협회', ...,\n",
       "       '은석건설주일용자월2리어류골해안도로연장사업중철근콘크리트공사', '주식회사원주엔지니어링일용클린코리아WDF고도화사업',\n",
       "       '서림종합건설주일용제천시생활SOC복합화시설건립사업건축공사중철콘및기타공사'], dtype=object)"
      ]
     },
     "execution_count": 15,
     "metadata": {},
     "output_type": "execute_result"
    }
   ],
   "source": [
    "df['사업장명'].unique()"
   ]
  },
  {
   "cell_type": "code",
   "execution_count": 16,
   "metadata": {},
   "outputs": [
    {
     "data": {
      "text/html": [
       "<div>\n",
       "<style scoped>\n",
       "    .dataframe tbody tr th:only-of-type {\n",
       "        vertical-align: middle;\n",
       "    }\n",
       "\n",
       "    .dataframe tbody tr th {\n",
       "        vertical-align: top;\n",
       "    }\n",
       "\n",
       "    .dataframe thead th {\n",
       "        text-align: right;\n",
       "    }\n",
       "</style>\n",
       "<table border=\"1\" class=\"dataframe\">\n",
       "  <thead>\n",
       "    <tr style=\"text-align: right;\">\n",
       "      <th></th>\n",
       "      <th>사업장명</th>\n",
       "      <th>사업자등록번호</th>\n",
       "      <th>가입상태</th>\n",
       "      <th>주소</th>\n",
       "      <th>시도코드</th>\n",
       "      <th>시군구코드</th>\n",
       "      <th>읍면동코드</th>\n",
       "      <th>업종코드</th>\n",
       "      <th>업종코드명</th>\n",
       "      <th>탈퇴일자</th>\n",
       "      <th>가입자수</th>\n",
       "      <th>금액</th>\n",
       "      <th>신규</th>\n",
       "      <th>상실</th>\n",
       "    </tr>\n",
       "  </thead>\n",
       "  <tbody>\n",
       "    <tr>\n",
       "      <th>1284</th>\n",
       "      <td>주전홍</td>\n",
       "      <td>214810</td>\n",
       "      <td>1</td>\n",
       "      <td>서울특별시 서초구 효령로</td>\n",
       "      <td>11</td>\n",
       "      <td>650</td>\n",
       "      <td>108</td>\n",
       "      <td>743002</td>\n",
       "      <td>광고 대행업</td>\n",
       "      <td>NaN</td>\n",
       "      <td>25</td>\n",
       "      <td>7758180</td>\n",
       "      <td>0</td>\n",
       "      <td>0</td>\n",
       "    </tr>\n",
       "    <tr>\n",
       "      <th>24109</th>\n",
       "      <td>주세영이앤지</td>\n",
       "      <td>114862</td>\n",
       "      <td>1</td>\n",
       "      <td>서울특별시 송파구 법원로9길</td>\n",
       "      <td>11</td>\n",
       "      <td>710</td>\n",
       "      <td>108</td>\n",
       "      <td>452104</td>\n",
       "      <td>배관 및 냉ㆍ난방 공사업</td>\n",
       "      <td>NaN</td>\n",
       "      <td>7</td>\n",
       "      <td>2941900</td>\n",
       "      <td>0</td>\n",
       "      <td>2</td>\n",
       "    </tr>\n",
       "  </tbody>\n",
       "</table>\n",
       "</div>"
      ],
      "text/plain": [
       "         사업장명  사업자등록번호  가입상태               주소  시도코드  시군구코드  읍면동코드    업종코드  \\\n",
       "1284      주전홍   214810     1    서울특별시 서초구 효령로    11    650    108  743002   \n",
       "24109  주세영이앤지   114862     1  서울특별시 송파구 법원로9길    11    710    108  452104   \n",
       "\n",
       "               업종코드명 탈퇴일자  가입자수       금액  신규  상실  \n",
       "1284          광고 대행업  NaN    25  7758180   0   0  \n",
       "24109  배관 및 냉ㆍ난방 공사업  NaN     7  2941900   0   2  "
      ]
     },
     "execution_count": 16,
     "metadata": {},
     "output_type": "execute_result"
    }
   ],
   "source": [
    "df.loc[[1284,24109]]"
   ]
  },
  {
   "cell_type": "code",
   "execution_count": 17,
   "metadata": {},
   "outputs": [
    {
     "data": {
      "text/plain": [
       "array(['2024-04-30', '2024-04-29', '2024-04-28', '2024-04-27',\n",
       "       '2024-04-26', '2024-04-25', '2024-04-24', '2024-04-23',\n",
       "       '2024-04-22', '2024-04-21', '2024-04-20', '2024-04-19',\n",
       "       '2024-04-18', '2024-04-17', '2024-04-16', '2024-04-15',\n",
       "       '2024-04-14', '2024-04-13', '2024-04-12', '2024-04-11',\n",
       "       '2024-04-10', '2024-04-09', '2024-04-08', '2024-04-07',\n",
       "       '2024-04-06', '2024-04-05', '2024-04-04', '2024-04-03',\n",
       "       '2024-04-02', '2024-04-01', '2024-03-31', '2024-03-30',\n",
       "       '2024-03-29', '2024-03-28', '2024-03-27', '2024-03-26',\n",
       "       '2024-03-25', '2024-03-24', '2024-03-23', '2024-03-22',\n",
       "       '2024-03-21', '2024-03-20', '2024-03-19', '2024-03-18',\n",
       "       '2024-03-17', '2024-03-16', '2024-03-15', '2024-03-14',\n",
       "       '2024-03-13', '2024-03-12', '2024-03-11', '2024-03-10',\n",
       "       '2024-03-09', '2024-03-08', '2024-03-07', '2024-03-06',\n",
       "       '2024-03-05', '2024-03-04', '2024-03-03', '2024-03-02',\n",
       "       '2024-03-01', '2024-02-29', '2024-02-28', '2024-02-27',\n",
       "       '2024-02-26', '2024-02-25', '2024-02-24', '2024-02-23',\n",
       "       '2024-02-22', '2024-02-21', '2024-02-20', '2024-02-19',\n",
       "       '2024-02-18', '2024-02-17', '2024-02-16', '2024-02-15',\n",
       "       '2024-02-14', '2024-02-13', '2024-02-12', '2024-02-11',\n",
       "       '2024-02-10', '2024-02-09', '2024-02-08', '2024-02-07',\n",
       "       '2024-02-06', '2024-02-05', '2024-02-04', '2024-02-03',\n",
       "       '2024-02-02', '2024-02-01', '2024-01-31', '2024-01-30',\n",
       "       '2024-01-29', '2024-01-28', '2024-01-27', '2024-01-26',\n",
       "       '2024-01-25', '2024-01-24', '2024-01-23', '2024-01-22',\n",
       "       '2024-01-21', '2024-01-20', '2024-01-19', '2024-01-18',\n",
       "       '2024-01-17', '2024-01-16', '2024-01-15', '2024-01-14',\n",
       "       '2024-01-13', '2024-01-12', '2024-01-11', '2024-01-09',\n",
       "       '2024-01-07', '2024-01-06', '2024-01-05', '2024-01-04',\n",
       "       '2024-01-03', '2024-01-02', '2024-01-01', '2023-12-31',\n",
       "       '2023-12-30', '2023-12-29', '2023-12-28', '2023-12-27',\n",
       "       '2023-12-26', '2023-12-25', '2023-12-24', '2023-12-23',\n",
       "       '2023-12-22', '2023-12-21', '2023-12-20', '2023-12-19',\n",
       "       '2023-12-18', '2023-12-17', '2023-12-16', '2023-12-15',\n",
       "       '2023-12-14', '2023-12-13', '2023-12-12', '2023-12-11',\n",
       "       '2023-12-10', '2023-12-09', '2023-12-08', '2023-12-07',\n",
       "       '2023-12-06', '2023-12-05', '2023-12-04', '2023-12-03',\n",
       "       '2023-12-02', '2023-12-01', '2023-11-30', '2023-11-29',\n",
       "       '2023-11-28', '2023-11-27', '2023-11-26', '2023-11-25',\n",
       "       '2023-11-24', '2023-11-23', '2023-11-22', '2023-11-21',\n",
       "       '2023-11-20', '2023-11-19', '2023-11-18', '2023-11-17',\n",
       "       '2023-11-16', '2023-11-15', '2023-11-14', '2023-11-13',\n",
       "       '2023-11-12', '2023-11-11', '2023-11-08', '2023-11-07',\n",
       "       '2023-11-06', '2023-11-05', '2023-11-04', '2023-11-03',\n",
       "       '2023-11-02', '2023-11-01', '2023-10-31', '2023-10-27',\n",
       "       '2023-10-26', '2023-10-25', '2023-10-24', '2023-10-23',\n",
       "       '2023-10-22', '2023-10-21', '2023-10-18', '2023-10-17',\n",
       "       '2023-10-16', '2023-10-15', '2023-10-14', '2023-10-13',\n",
       "       '2023-10-12', '2023-10-11', '2023-10-10', '2023-10-08',\n",
       "       '2023-10-07', '2023-10-06', '2023-10-05', '2023-10-02',\n",
       "       '2023-10-01', '2023-09-30', '2023-09-27', '2023-09-26',\n",
       "       '2023-09-25', '2023-09-24', '2023-09-23', '2023-09-22',\n",
       "       '2023-09-21', '2023-09-20', '2023-09-19', '2023-09-16',\n",
       "       '2023-09-15', '2023-09-14', '2023-09-12', '2023-09-11',\n",
       "       '2023-09-10', '2023-09-09', '2023-09-08', '2023-09-06',\n",
       "       '2023-09-02', '2023-09-01', '2023-08-31', '2023-08-30',\n",
       "       '2023-08-29', '2023-08-28', '2023-08-26', '2023-08-25',\n",
       "       '2023-08-22', '2023-08-21', '2023-08-20', '2023-08-19',\n",
       "       '2023-08-18', '2023-08-16', '2023-08-15', '2023-08-14',\n",
       "       '2023-08-13', '2023-08-12', '2023-08-11', '2023-08-09',\n",
       "       '2023-08-08', '2023-08-02', '2023-08-01', '2023-07-31',\n",
       "       '2023-07-30', '2023-07-29', '2023-07-27', '2023-07-26',\n",
       "       '2023-07-25', '2023-07-24', '2023-07-22', '2023-07-21',\n",
       "       '2023-07-20', '2023-07-17', '2023-07-16', '2023-07-15',\n",
       "       '2023-07-14', '2023-07-13', '2023-07-12', '2023-07-11',\n",
       "       '2023-07-07', '2023-07-06', '2023-07-05', '2023-07-03',\n",
       "       '2023-07-02', '2023-07-01', '2023-06-30', '2023-06-29',\n",
       "       '2023-06-28', '2023-06-27', '2023-06-26', '2023-06-25',\n",
       "       '2023-06-24', '2023-06-23', '2023-06-22', '2023-06-20',\n",
       "       '2023-06-19', '2023-06-18', '2023-06-15', '2023-06-13',\n",
       "       '2023-06-11', '2023-06-09', '2023-06-08', '2023-06-06',\n",
       "       '2023-06-04', '2023-06-01', '2023-05-31', '2023-05-28',\n",
       "       '2023-05-27', '2023-05-26', '2023-05-25', '2023-05-24',\n",
       "       '2023-05-23', '2023-05-22', '2023-05-21', '2023-05-20',\n",
       "       '2023-05-17', '2023-05-16', '2023-05-15', '2023-05-14',\n",
       "       '2023-05-12', '2023-05-11', '2023-05-10', '2023-05-09',\n",
       "       '2023-05-06', '2023-05-02', '2023-05-01', '2023-04-30',\n",
       "       '2023-04-29', '2023-04-27', '2023-04-26', '2023-04-20',\n",
       "       '2023-04-19', '2023-04-17', '2023-04-12', '2023-04-11',\n",
       "       '2023-04-10', '2023-04-07', '2023-04-04', '2023-04-03',\n",
       "       '2023-04-01', '2023-03-31', '2023-03-30', '2023-03-26',\n",
       "       '2023-03-25', '2023-03-24', '2023-03-22', '2023-03-21',\n",
       "       '2023-03-18', '2023-03-16', '2023-03-10', '2023-03-05',\n",
       "       '2023-03-02', '2023-03-01', '2023-02-28', '2023-02-27',\n",
       "       '2023-02-26', '2023-02-25', '2023-02-23', '2023-02-21',\n",
       "       '2023-02-20', '2023-02-16', '2023-02-15', '2023-02-08',\n",
       "       '2023-02-07', '2023-02-06', '2023-02-01', '2023-01-31',\n",
       "       '2023-01-21', '2023-01-20', '2023-01-14', '2023-01-11',\n",
       "       '2023-01-10', '2023-01-09', '2023-01-07', '2023-01-06',\n",
       "       '2023-01-03', '2023-01-02', '2023-01-01', '2022-12-31',\n",
       "       '2022-12-30', '2022-12-27', '2022-12-24', '2022-12-21',\n",
       "       '2022-12-20', '2022-12-19', '2022-12-17', '2022-12-16',\n",
       "       '2022-12-15', '2022-12-12', '2022-12-10', '2022-12-07',\n",
       "       '2022-12-06', '2022-12-05', '2022-12-01', '2022-11-30',\n",
       "       '2022-11-25', '2022-11-19', '2022-11-15', '2022-11-10',\n",
       "       '2022-11-06', '2022-11-01', '2022-10-29', '2022-10-28',\n",
       "       '2022-10-20', '2022-10-14', '2022-10-02', '2022-10-01',\n",
       "       '2022-09-30', '2022-09-29', '2022-09-21', '2022-09-17',\n",
       "       '2022-09-15', '2022-09-12', '2022-09-08', '2022-09-01',\n",
       "       '2022-08-31', '2022-08-18', '2022-08-17', '2022-08-13',\n",
       "       '2022-08-05', '2022-08-04', '2022-08-01', '2022-07-31',\n",
       "       '2022-07-26', '2022-07-20', '2022-07-16', '2022-07-15',\n",
       "       '2022-07-14', '2022-07-13', '2022-07-11', '2022-07-01',\n",
       "       '2022-06-30', '2022-06-27', '2022-06-24', '2022-06-20',\n",
       "       '2022-06-15', '2022-06-14', '2022-06-11', '2022-06-07',\n",
       "       '2022-06-05', '2022-06-04', '2022-06-01', '2022-05-31',\n",
       "       '2022-05-28', '2022-05-19', '2022-05-17', '2022-05-01',\n",
       "       '2022-04-29', '2022-04-21', '2022-04-15', '2022-04-08',\n",
       "       '2022-04-07', '2022-04-01', '2022-03-30', '2022-03-17',\n",
       "       '2022-03-15', '2022-03-10', '2022-03-06', '2022-03-01',\n",
       "       '2022-02-23', '2022-02-22', '2022-02-16', '2022-02-10',\n",
       "       '2022-02-01', '2022-01-31', '2022-01-30', '2022-01-29',\n",
       "       '2022-01-28', '2022-01-21', '2022-01-20', '2022-01-19',\n",
       "       '2022-01-18', '2022-01-13', '2022-01-06', '2022-01-05',\n",
       "       '2022-01-02', '2022-01-01', '2021-12-28', '2021-12-22',\n",
       "       '2021-12-21', '2021-12-10', '2021-12-02', '2021-12-01',\n",
       "       '2021-11-30', '2021-11-14', '2021-11-12', '2021-11-01',\n",
       "       '2021-10-31', '2021-10-24', '2021-10-18', '2021-10-13',\n",
       "       '2021-10-01', '2021-09-30', '2021-09-28', '2021-09-27',\n",
       "       '2021-09-19', '2021-09-18', '2021-09-16', '2021-09-14',\n",
       "       '2021-09-13', '2021-09-09', '2021-09-03', '2021-09-01',\n",
       "       '2021-08-28', '2021-08-25', '2021-08-19', '2021-08-17',\n",
       "       '2021-08-14', '2021-08-13', '2021-08-11', '2021-08-10',\n",
       "       '2021-08-07', '2021-08-06', '2021-08-01', '2021-07-31',\n",
       "       '2021-07-28', '2021-07-24', '2021-07-20', '2021-07-13',\n",
       "       '2021-07-11', '2021-07-07', '2021-07-05', '2021-07-03',\n",
       "       '2021-07-01', '2021-06-30', '2021-06-26', '2021-06-15',\n",
       "       '2021-06-14', '2021-06-12', '2021-06-10', '2021-06-08',\n",
       "       '2021-06-06', '2021-06-01', '2021-05-31', '2021-05-26',\n",
       "       '2021-05-22', '2021-05-18', '2021-05-15', '2021-05-13',\n",
       "       '2021-05-11', '2021-05-10', '2021-05-02', '2021-05-01',\n",
       "       '2021-04-30', '2021-04-28', '2021-04-24', '2021-04-23',\n",
       "       '2021-04-22', '2021-04-19', '2021-04-18', '2021-04-17',\n",
       "       '2021-04-16', '2021-04-08', '2021-04-03', '2021-04-01',\n",
       "       '2021-03-31', '2021-03-29', '2021-03-26', '2021-03-25',\n",
       "       '2021-03-23', '2021-03-12', '2021-03-11', '2021-03-10',\n",
       "       '2021-03-03', '2021-03-01', '2021-02-28', '2021-02-27',\n",
       "       '2021-02-26', '2021-02-24', '2021-02-22', '2021-02-20',\n",
       "       '2021-02-16', '2021-02-15', '2021-02-10', '2021-02-09',\n",
       "       '2021-02-08', '2021-02-06', '2021-02-03', '2021-02-01',\n",
       "       '2021-01-31', '2021-01-30', '2021-01-29', '2021-01-28',\n",
       "       '2021-01-26', '2021-01-25', '2021-01-23', '2021-01-22',\n",
       "       '2021-01-16', '2021-01-15', '2021-01-14', '2021-01-13',\n",
       "       '2021-01-09', '2021-01-08', '2021-01-06', '2021-01-05',\n",
       "       '2021-01-02', '2021-01-01', '2020-12-31', '2020-12-30',\n",
       "       '2020-12-29', '2020-12-28', '2020-12-27', '2020-12-25',\n",
       "       '2020-12-24', '2020-12-23', '2020-12-22', '2020-12-21',\n",
       "       '2020-12-19', '2020-12-18', '2020-12-16', '2020-12-14',\n",
       "       '2020-12-12', '2020-12-11', '2020-12-09', '2020-12-07',\n",
       "       '2020-12-02', '2020-12-01', '2020-11-30', '2020-11-25',\n",
       "       '2020-11-21', '2020-11-12', '2020-11-10', '2020-11-08',\n",
       "       '2020-11-06', '2020-11-04', '2020-11-02', '2020-11-01',\n",
       "       '2020-10-31', '2020-10-24', '2020-10-20', '2020-10-07',\n",
       "       '2020-10-05', '2020-10-01', '2020-09-30', '2020-09-28',\n",
       "       '2020-09-26', '2020-09-25', '2020-09-21', '2020-09-15',\n",
       "       '2020-09-11', '2020-09-08', '2020-09-07', '2020-09-01',\n",
       "       '2020-08-31', '2020-08-26', '2020-08-24', '2020-08-14',\n",
       "       '2020-08-10', '2020-08-03', '2020-08-01', '2020-07-31',\n",
       "       '2020-07-22', '2020-07-21', '2020-07-20', '2020-07-01',\n",
       "       '2020-06-30', '2020-06-29', '2020-06-28', '2020-06-27',\n",
       "       '2020-06-26', '2020-06-25', '2020-06-21', '2020-06-18',\n",
       "       '2020-06-17', '2020-06-16', '2020-06-15', '2020-06-12',\n",
       "       '2020-06-08', '2020-06-07', '2020-06-02', '2020-06-01',\n",
       "       '2020-05-31', '2020-05-30', '2020-05-16', '2020-05-15',\n",
       "       '2020-05-11', '2020-05-01', '2020-04-30', '2020-04-28',\n",
       "       '2020-04-27', '2020-04-25', '2020-04-21', '2020-04-18',\n",
       "       '2020-04-16', '2020-04-14', '2020-04-13', '2020-04-03',\n",
       "       '2020-04-02', '2020-04-01', '2020-03-31', '2020-03-23',\n",
       "       '2020-03-20', '2020-03-02', '2020-03-01', '2020-02-29',\n",
       "       '2020-02-25', '2020-02-20', '2020-02-03', '2020-02-01',\n",
       "       '2020-01-31', '2020-01-28', '2020-01-15', '2020-01-10',\n",
       "       '2020-01-01', '2019-12-31', '2019-12-26', '2019-12-25',\n",
       "       '2019-12-21', '2019-12-12', '2019-12-09', '2019-12-01',\n",
       "       '2019-11-30', '2019-11-29', '2019-11-24', '2019-11-13',\n",
       "       '2019-11-07', '2019-11-01', '2019-10-31', '2019-10-30',\n",
       "       '2019-10-27', '2019-10-26', '2019-10-25', '2019-10-22',\n",
       "       '2019-10-21', '2019-10-18', '2019-10-16', '2019-10-15',\n",
       "       '2019-10-09', '2019-10-05', '2019-10-01', '2019-09-26',\n",
       "       '2019-09-23', '2019-09-20', '2019-09-16', '2019-09-06',\n",
       "       '2019-09-02', '2019-09-01', '2019-08-31', '2019-08-30',\n",
       "       '2019-08-26', '2019-08-24', '2019-08-21', '2019-08-19',\n",
       "       '2019-08-16', '2019-08-03', '2019-08-01', '2019-07-31',\n",
       "       '2019-07-22', '2019-07-20', '2019-07-11', '2019-07-09',\n",
       "       '2019-07-01', '2019-06-17', '2019-06-08', '2019-06-02',\n",
       "       '2019-05-31', '2019-05-20', '2019-05-17', '2019-05-15',\n",
       "       '2019-05-01', '2019-04-27', '2019-04-09', '2019-04-02',\n",
       "       '2019-04-01', '2019-03-31', '2019-03-29', '2019-03-12',\n",
       "       '2019-03-10', '2019-03-06', '2019-03-01', '2019-02-27',\n",
       "       '2019-02-13', '2019-02-01', '2019-01-18', '2019-01-01',\n",
       "       '2018-12-31', '2018-12-21', '2018-12-20', '2018-12-07',\n",
       "       '2018-12-01', '2018-11-01', '2018-10-11', '2018-09-30',\n",
       "       '2018-09-21', '2018-09-01', '2018-08-25', '2018-07-01',\n",
       "       '2018-06-01', '2018-05-26', '2018-03-09', '2018-03-01',\n",
       "       '2018-02-01', '2018-01-01', '2017-12-31', '2017-11-24',\n",
       "       '2017-11-19', '2017-10-30', '2017-09-22', '2017-09-16',\n",
       "       '2017-09-06', '2017-09-01', '2017-08-06', '2017-07-11',\n",
       "       '2017-06-01', '2017-04-07', '2017-04-04', '2017-03-31',\n",
       "       '2016-11-22', '2016-08-11', '2016-08-01', '2016-06-02',\n",
       "       '2016-04-01', '2015-12-01', '2015-10-01', '2015-09-02',\n",
       "       '2015-04-30', '2014-12-25', '2014-07-30', '2014-06-01',\n",
       "       '2014-05-26', '2014-04-01', '2014-01-01', '2013-10-01',\n",
       "       '2013-05-28', nan], dtype=object)"
      ]
     },
     "execution_count": 17,
     "metadata": {},
     "output_type": "execute_result"
    }
   ],
   "source": [
    "df['탈퇴일자'].sort_values(ascending=False).unique()"
   ]
  },
  {
   "cell_type": "code",
   "execution_count": 18,
   "metadata": {},
   "outputs": [
    {
     "data": {
      "text/plain": [
       "array([  nan, 2024., 2023., 2020., 2021., 2014., 2022., 2019., 2017.,\n",
       "       2013., 2018., 2016., 2015.])"
      ]
     },
     "execution_count": 18,
     "metadata": {},
     "output_type": "execute_result"
    }
   ],
   "source": [
    "df['탈퇴일자_연도'] = pd.to_datetime(df['탈퇴일자']).dt.year\n",
    "df['탈퇴일자_월'] = pd.to_datetime(df['탈퇴일자']).dt.month\n",
    "\n",
    "df['탈퇴일자_연도'].unique()"
   ]
  },
  {
   "cell_type": "code",
   "execution_count": 19,
   "metadata": {},
   "outputs": [
    {
     "data": {
      "image/png": "[encoded data removed]",
      "text/plain": [
       "<Figure size 640x480 with 1 Axes>"
      ]
     },
     "metadata": {},
     "output_type": "display_data"
    }
   ],
   "source": [
    "import matplotlib.pyplot as plt\n",
    "from matplotlib import font_manager, rc\n",
    "\n",
    "plt.rc('font', family=\"Malgun Gothic\")\n",
    "\n",
    "\n",
    "df.query(\"가입상태 == 2 & 탈퇴일자_연도==2023\")['탈퇴일자_월'].astype(int).value_counts().plot(kind='bar')\n",
    "\n",
    "plt.show()"
   ]
  },
  {
   "cell_type": "code",
   "execution_count": null,
   "metadata": {},
   "outputs": [],
   "source": []
  },
  {
   "cell_type": "code",
   "execution_count": 20,
   "metadata": {},
   "outputs": [],
   "source": [
    "# 2023년에 탈퇴한 기업을 대상으로, 시도별 탈퇴한 기업의 숫자를 막대그래프로 출력\n",
    "\n",
    "df['지역'] = df['주소'].str.split(' ').str[0]\n"
   ]
  },
  {
   "cell_type": "code",
   "execution_count": 21,
   "metadata": {},
   "outputs": [
    {
     "data": {
      "text/plain": [
       "array(['서울특별시', '경기도', '강원특별자치도', '', '부산광역시', '전라남도', '울산광역시', '인천광역시',\n",
       "       '전북특별자치도', '충청남도', '충청북도', '경상북도', '세종특별자치시', '대구광역시', '경상남도',\n",
       "       '제주특별자치도', '대전광역시', '광주광역시', '강원도', '전라북도'], dtype=object)"
      ]
     },
     "execution_count": 21,
     "metadata": {},
     "output_type": "execute_result"
    }
   ],
   "source": [
    "df['지역'].unique()"
   ]
  },
  {
   "cell_type": "code",
   "execution_count": 22,
   "metadata": {},
   "outputs": [
    {
     "name": "stderr",
     "output_type": "stream",
     "text": [
      "C:\\Users\\JBEDU30\\AppData\\Local\\Temp\\ipykernel_14556\\2202653909.py:1: UserWarning: Boolean Series key will be reindexed to match DataFrame index.\n",
      "  (df.query(\"가입상태==2 & 탈퇴일자_연도==2023\")[df['지역'].\n"
     ]
    },
    {
     "data": {
      "image/png": "[encoded data removed]",
      "text/plain": [
       "<Figure size 640x480 with 1 Axes>"
      ]
     },
     "metadata": {},
     "output_type": "display_data"
    }
   ],
   "source": [
    "(df.query(\"가입상태==2 & 탈퇴일자_연도==2023\")[df['지역'].\n",
    "                                    apply(lambda x:len(x)>0)]['지역'].\n",
    "                                    value_counts().plot(kind='bar'))\n",
    "\n",
    "plt.show()\n"
   ]
  },
  {
   "cell_type": "code",
   "execution_count": 23,
   "metadata": {},
   "outputs": [
    {
     "name": "stdout",
     "output_type": "stream",
     "text": [
      "사업장명\n",
      "사업자등록번호\n",
      "가입상태\n",
      "주소\n",
      "시도코드\n",
      "시군구코드\n",
      "읍면동코드\n",
      "업종코드\n",
      "업종코드명\n",
      "탈퇴일자\n",
      "가입자수\n",
      "금액\n",
      "신규\n",
      "상실\n",
      "탈퇴일자_연도\n",
      "탈퇴일자_월\n",
      "지역\n"
     ]
    }
   ],
   "source": [
    "for c in df.columns:\n",
    "    print(c)"
   ]
  },
  {
   "cell_type": "code",
   "execution_count": 24,
   "metadata": {},
   "outputs": [
    {
     "data": {
      "text/plain": [
       "<Axes: xlabel='탈퇴일자_연도', ylabel='count'>"
      ]
     },
     "execution_count": 24,
     "metadata": {},
     "output_type": "execute_result"
    },
    {
     "data": {
      "image/png": "[encoded data removed]",
      "text/plain": [
       "<Figure size 640x480 with 1 Axes>"
      ]
     },
     "metadata": {},
     "output_type": "display_data"
    }
   ],
   "source": [
    "# 탈퇴한 기업을 대상으로 상반기/하반기별 기업의 탈퇴 수 비교\n",
    "# 비교대상 : 2017년 ~ 2024년 기준 산정\n",
    "# 상반기 : 1월 ~ 6월\n",
    "# 하반기 : 7월 ~ 12월\n",
    "\n",
    "import numpy as np\n",
    "import seaborn as sns\n",
    "\n",
    "cond1 = df.query('가입상태==2 & 탈퇴일자_연도>=2017 & 탈퇴일자_연도 <=2023')\n",
    "temp = cond1.copy()\n",
    "temp['반기'] = np.where(temp['탈퇴일자_월'] <= 6,\n",
    "                      '상반기', '하반기')\n",
    "temp['탈퇴일자_연도'] = temp['탈퇴일자_연도'].astype(int)\n",
    "\n",
    "sns.countplot(data=temp, x='탈퇴일자_연도', hue='반기')\n",
    "\n",
    "\n"
   ]
  },
  {
   "cell_type": "code",
   "execution_count": 25,
   "metadata": {},
   "outputs": [
    {
     "data": {
      "text/plain": [
       "Index(['사업장명', '사업자등록번호', '주소', '시도코드', '시군구코드', '읍면동코드', '업종코드', '업종코드명',\n",
       "       '가입자수', '금액', '신규', '상실', '탈퇴일자_연도', '탈퇴일자_월', '지역'],\n",
       "      dtype='object')"
      ]
     },
     "execution_count": 25,
     "metadata": {},
     "output_type": "execute_result"
    }
   ],
   "source": [
    "# 가입상태가 2인 데이터 삭제\n",
    "# 가입상태, 탈퇴일자, 컬럼 삭제\n",
    "\n",
    "if ('가입상태' or '탈퇴일자') in df.columns:\n",
    "    df = df.query(\"가입상태 == 1\").drop(['가입상태', '탈퇴일자'], axis=1)\n",
    "df.columns\n"
   ]
  },
  {
   "cell_type": "code",
   "execution_count": 26,
   "metadata": {},
   "outputs": [
    {
     "data": {
      "text/plain": [
       "(519561, 15)"
      ]
     },
     "execution_count": 26,
     "metadata": {},
     "output_type": "execute_result"
    }
   ],
   "source": [
    "df.shape"
   ]
  },
  {
   "cell_type": "code",
   "execution_count": 27,
   "metadata": {},
   "outputs": [
    {
     "name": "stdout",
     "output_type": "stream",
     "text": [
      "<class 'pandas.core.frame.DataFrame'>\n",
      "Index: 519561 entries, 0 to 531534\n",
      "Data columns (total 15 columns):\n",
      " #   Column   Non-Null Count   Dtype  \n",
      "---  ------   --------------   -----  \n",
      " 0   사업장명     519561 non-null  object \n",
      " 1   사업자등록번호  519561 non-null  int64  \n",
      " 2   주소       519561 non-null  object \n",
      " 3   시도코드     519561 non-null  int64  \n",
      " 4   시군구코드    519561 non-null  int64  \n",
      " 5   읍면동코드    519561 non-null  int64  \n",
      " 6   업종코드     519561 non-null  object \n",
      " 7   업종코드명    510841 non-null  object \n",
      " 8   가입자수     519561 non-null  int64  \n",
      " 9   금액       519561 non-null  int64  \n",
      " 10  신규       519561 non-null  int64  \n",
      " 11  상실       519561 non-null  int64  \n",
      " 12  탈퇴일자_연도  0 non-null       float64\n",
      " 13  탈퇴일자_월   0 non-null       float64\n",
      " 14  지역       519561 non-null  object \n",
      "dtypes: float64(2), int64(8), object(5)\n",
      "memory usage: 63.4+ MB\n"
     ]
    }
   ],
   "source": [
    "df['지역'].unique()\n",
    "df.info()"
   ]
  },
  {
   "cell_type": "code",
   "execution_count": 28,
   "metadata": {},
   "outputs": [],
   "source": [
    "# 핵심 데이터 칼럼 추출\n",
    "# 수도권(서울, 경기도) 소재의 기업을 대상\n",
    "# 가입자수를 기준으로 내림차순 정렬, 막대그래프 출력\n",
    "# 출력되는 사업장명은 상위 20개만 출력\n"
   ]
  },
  {
   "cell_type": "code",
   "execution_count": 29,
   "metadata": {},
   "outputs": [
    {
     "data": {
      "text/plain": [
       "array([11, 41, 51, 26, 46, 31, 28, 52, 44, 43, 47, 36, 27, 48, 50, 30, 29,\n",
       "       45], dtype=int64)"
      ]
     },
     "execution_count": 29,
     "metadata": {},
     "output_type": "execute_result"
    }
   ],
   "source": [
    "df['시도코드'].unique()\n"
   ]
  },
  {
   "cell_type": "code",
   "execution_count": 30,
   "metadata": {},
   "outputs": [
    {
     "data": {
      "text/plain": [
       "array([11, 41], dtype=int64)"
      ]
     },
     "execution_count": 30,
     "metadata": {},
     "output_type": "execute_result"
    }
   ],
   "source": [
    "df.query(\"지역 == '서울특별시' | 지역 == '경기도'\")['시도코드'].unique()"
   ]
  },
  {
   "cell_type": "code",
   "execution_count": 31,
   "metadata": {},
   "outputs": [
    {
     "data": {
      "text/plain": [
       "<Axes: xlabel='가입자수', ylabel='사업장명'>"
      ]
     },
     "execution_count": 31,
     "metadata": {},
     "output_type": "execute_result"
    },
    {
     "data": {
      "image/png": "[encoded data removed]",
      "text/plain": [
       "<Figure size 640x480 with 1 Axes>"
      ]
     },
     "metadata": {},
     "output_type": "display_data"
    }
   ],
   "source": [
    "temp = (df.query(\"시도코드 == 11 | 시도코드 == 41\")\n",
    "        [['사업장명', '가입자수']]\n",
    "        .sort_values('가입자수', ascending=False).head(20))\n",
    "\n",
    "sns.barplot(y='사업장명', x='가입자수', data=temp)"
   ]
  }
 ],
 "metadata": {
  "kernelspec": {
   "display_name": "Python 3",
   "language": "python",
   "name": "python3"
  },
  "language_info": {
   "codemirror_mode": {
    "name": "ipython",
    "version": 3
   },
   "file_extension": ".py",
   "mimetype": "text/x-python",
   "name": "python",
   "nbconvert_exporter": "python",
   "pygments_lexer": "ipython3",
   "version": "3.12.3"
  }
 },
 "nbformat": 4,
 "nbformat_minor": 2
}
